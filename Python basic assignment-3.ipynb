{
 "cells": [
  {
   "cell_type": "markdown",
   "id": "c66c8a44",
   "metadata": {},
   "source": [
    "1. Why are functions advantageous to have in your programs?"
   ]
  },
  {
   "cell_type": "code",
   "execution_count": null,
   "id": "5b462774",
   "metadata": {},
   "outputs": [],
   "source": [
    "=>Functions reduce the need for duplicate code. This makes programs shorter, easier to read, and easier to update."
   ]
  },
  {
   "cell_type": "markdown",
   "id": "1409e677",
   "metadata": {},
   "source": [
    "2. When does the code in a function run: when its specified or when it&#39;s called?"
   ]
  },
  {
   "cell_type": "code",
   "execution_count": null,
   "id": "ca2efc3d",
   "metadata": {},
   "outputs": [],
   "source": [
    "=>The code in a function executes when the function is called, not when the function is defined."
   ]
  },
  {
   "cell_type": "markdown",
   "id": "307a1155",
   "metadata": {},
   "source": [
    "3. What statement creates a function?"
   ]
  },
  {
   "cell_type": "code",
   "execution_count": null,
   "id": "57197daf",
   "metadata": {},
   "outputs": [],
   "source": [
    "=>def statement."
   ]
  },
  {
   "cell_type": "markdown",
   "id": "8c631506",
   "metadata": {},
   "source": [
    "4. What is the difference between a function and a function call?"
   ]
  },
  {
   "cell_type": "code",
   "execution_count": null,
   "id": "e5741fa8",
   "metadata": {},
   "outputs": [],
   "source": [
    "=>A function consists of the def statement and A function call is what moves the program execution into the function."
   ]
  },
  {
   "cell_type": "markdown",
   "id": "b58e93ca",
   "metadata": {},
   "source": [
    "5. How many global scopes are there in a Python program? How many local scopes?"
   ]
  },
  {
   "cell_type": "code",
   "execution_count": null,
   "id": "72ae01cb",
   "metadata": {},
   "outputs": [],
   "source": [
    "=>There is one global scope, and a local scope is created whenever is called a Function."
   ]
  },
  {
   "cell_type": "markdown",
   "id": "fe8ef205",
   "metadata": {},
   "source": [
    "6. What happens to variables in a local scope when the function call returns?"
   ]
  },
  {
   "cell_type": "code",
   "execution_count": null,
   "id": "7f46da58",
   "metadata": {},
   "outputs": [],
   "source": []
  },
  {
   "cell_type": "markdown",
   "id": "1c33549a",
   "metadata": {},
   "source": [
    "7. What is the concept of a return value? Is it possible to have a return value in an expression?"
   ]
  },
  {
   "cell_type": "code",
   "execution_count": null,
   "id": "4e9e4e89",
   "metadata": {},
   "outputs": [],
   "source": [
    "=>A return value is the value that a function call evaluates to. Like any value, \n",
    "a return value can be used as part of an expression."
   ]
  },
  {
   "cell_type": "markdown",
   "id": "30b8ec2d",
   "metadata": {},
   "source": [
    "8. If a function does not have a return statement, what is the return value of a call to that function?"
   ]
  },
  {
   "cell_type": "code",
   "execution_count": null,
   "id": "0481f1e2",
   "metadata": {},
   "outputs": [],
   "source": [
    "=>If there is no return statement for a function, its return value is None."
   ]
  },
  {
   "cell_type": "markdown",
   "id": "5901832d",
   "metadata": {},
   "source": [
    "9. How do you make a function variable refer to the global variable?"
   ]
  },
  {
   "cell_type": "code",
   "execution_count": null,
   "id": "32ebd85c",
   "metadata": {},
   "outputs": [],
   "source": []
  },
  {
   "cell_type": "markdown",
   "id": "8e43d990",
   "metadata": {},
   "source": [
    "10. What is the data type of None?"
   ]
  },
  {
   "cell_type": "code",
   "execution_count": null,
   "id": "1ea48b90",
   "metadata": {},
   "outputs": [],
   "source": [
    "=>The data type of None is NoneType."
   ]
  },
  {
   "cell_type": "markdown",
   "id": "955f7cca",
   "metadata": {},
   "source": [
    "11. What does the sentence import areallyourpetsnamederic do?"
   ]
  },
  {
   "cell_type": "code",
   "execution_count": null,
   "id": "ffc62490",
   "metadata": {},
   "outputs": [],
   "source": []
  },
  {
   "cell_type": "markdown",
   "id": "c87d60b8",
   "metadata": {},
   "source": [
    "12. If you had a bacon() feature in a spam module, what would you call it after importing spam?"
   ]
  },
  {
   "cell_type": "code",
   "execution_count": null,
   "id": "cdca7f11",
   "metadata": {},
   "outputs": [],
   "source": [
    "=>spam.bacon()."
   ]
  },
  {
   "cell_type": "markdown",
   "id": "c42bbe8c",
   "metadata": {},
   "source": [
    "13. What can you do to save a programme from crashing if it encounters an error?"
   ]
  },
  {
   "cell_type": "code",
   "execution_count": null,
   "id": "c4ad489f",
   "metadata": {},
   "outputs": [],
   "source": [
    "=> try clause"
   ]
  },
  {
   "cell_type": "markdown",
   "id": "c00d722e",
   "metadata": {},
   "source": [
    "14. What is the purpose of the try clause? What is the purpose of the except clause?"
   ]
  },
  {
   "cell_type": "code",
   "execution_count": null,
   "id": "af270a0e",
   "metadata": {},
   "outputs": [],
   "source": [
    "=>The code that could potentially cause an error goes in the try clause.\n",
    "  The code that executes if an error happens goes in the except clause."
   ]
  }
 ],
 "metadata": {
  "kernelspec": {
   "display_name": "Python 3 (ipykernel)",
   "language": "python",
   "name": "python3"
  },
  "language_info": {
   "codemirror_mode": {
    "name": "ipython",
    "version": 3
   },
   "file_extension": ".py",
   "mimetype": "text/x-python",
   "name": "python",
   "nbconvert_exporter": "python",
   "pygments_lexer": "ipython3",
   "version": "3.10.9"
  }
 },
 "nbformat": 4,
 "nbformat_minor": 5
}
